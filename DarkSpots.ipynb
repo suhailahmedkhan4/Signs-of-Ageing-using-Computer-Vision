{
  "nbformat": 4,
  "nbformat_minor": 5,
  "metadata": {
    "kernelspec": {
      "display_name": "Python 3",
      "language": "python",
      "name": "python3"
    },
    "language_info": {
      "codemirror_mode": {
        "name": "ipython",
        "version": 3
      },
      "file_extension": ".py",
      "mimetype": "text/x-python",
      "name": "python",
      "nbconvert_exporter": "python",
      "pygments_lexer": "ipython3",
      "version": "3.8.8"
    },
    "colab": {
      "name": "DarkSpots.ipynb",
      "provenance": []
    }
  },
  "cells": [
    {
      "cell_type": "code",
      "metadata": {
        "id": "oPfJD4BosFfi"
      },
      "source": [
        ""
      ],
      "id": "oPfJD4BosFfi",
      "execution_count": null,
      "outputs": []
    },
    {
      "cell_type": "code",
      "metadata": {
        "id": "6a97e6fb"
      },
      "source": [
        "import tensorflow as tf\n",
        "import pandas as pd\n",
        "import numpy as np\n",
        "import os\n",
        "import cv2"
      ],
      "id": "6a97e6fb",
      "execution_count": 29,
      "outputs": []
    },
    {
      "cell_type": "code",
      "metadata": {
        "colab": {
          "base_uri": "https://localhost:8080/"
        },
        "id": "RXwbg2kOsJg0",
        "outputId": "09546657-8fe4-4a02-c3f6-92b5dd868fbd"
      },
      "source": [
        "from google.colab import drive\n",
        "drive.mount('/content/drive')"
      ],
      "id": "RXwbg2kOsJg0",
      "execution_count": 30,
      "outputs": [
        {
          "output_type": "stream",
          "text": [
            "Drive already mounted at /content/drive; to attempt to forcibly remount, call drive.mount(\"/content/drive\", force_remount=True).\n"
          ],
          "name": "stdout"
        }
      ]
    },
    {
      "cell_type": "code",
      "metadata": {
        "id": "09766e7e"
      },
      "source": [
        "folder_list=os.listdir(\"/content/drive/MyDrive/ML Major/AnyConv.com__dark spots\")"
      ],
      "id": "09766e7e",
      "execution_count": 31,
      "outputs": []
    },
    {
      "cell_type": "code",
      "metadata": {
        "colab": {
          "base_uri": "https://localhost:8080/"
        },
        "id": "f24fd9e1",
        "outputId": "258e8569-4f70-46c4-80d8-2469c948a9a2"
      },
      "source": [
        "folder_list"
      ],
      "id": "f24fd9e1",
      "execution_count": 32,
      "outputs": [
        {
          "output_type": "execute_result",
          "data": {
            "text/plain": [
              "['dark spots', 'No dark spots']"
            ]
          },
          "metadata": {
            "tags": []
          },
          "execution_count": 32
        }
      ]
    },
    {
      "cell_type": "code",
      "metadata": {
        "colab": {
          "base_uri": "https://localhost:8080/"
        },
        "id": "9016f141",
        "outputId": "7b68c377-3d16-4571-8a8f-7972ddf9897c"
      },
      "source": [
        "features_train=[]\n",
        "target_train=[]\n",
        "for folder in folder_list:\n",
        "    ImgNames_list=os.listdir(\"/content/drive/MyDrive/ML Major/AnyConv.com__dark spots\"+\"/\"+folder)\n",
        "    print(\"In Folder : \",folder)\n",
        "    for imgName in ImgNames_list:\n",
        "        Imgarr=cv2.imread(\"/content/drive/MyDrive/ML Major/AnyConv.com__dark spots\"+\"/\"+folder+\"/\"+imgName)\n",
        "        # there might be images of size less than 100 by 100 and so error occurs\n",
        "        try:\n",
        "            Imgarr=cv2.resize(Imgarr,(100,100))\n",
        "        except: # we need to write atleast one line of code\n",
        "            pass\n",
        "        else:\n",
        "            features_train.append(Imgarr)\n",
        "            if folder==\"No dark spots\":\n",
        "                target_train.append(0)\n",
        "            else:\n",
        "                target_train.append(1)"
      ],
      "id": "9016f141",
      "execution_count": 34,
      "outputs": [
        {
          "output_type": "stream",
          "text": [
            "In Folder :  dark spots\n",
            "In Folder :  No dark spots\n"
          ],
          "name": "stdout"
        }
      ]
    },
    {
      "cell_type": "code",
      "metadata": {
        "id": "3411d093"
      },
      "source": [
        "features_train=np.array(features_train)\n",
        "target_train=np.array(target_train)"
      ],
      "id": "3411d093",
      "execution_count": 35,
      "outputs": []
    },
    {
      "cell_type": "code",
      "metadata": {
        "id": "78b0659b",
        "colab": {
          "base_uri": "https://localhost:8080/"
        },
        "outputId": "31ec9fdf-4777-4d7a-e525-1f99d258087e"
      },
      "source": [
        "features_train.shape"
      ],
      "id": "78b0659b",
      "execution_count": 36,
      "outputs": [
        {
          "output_type": "execute_result",
          "data": {
            "text/plain": [
              "(331, 100, 100, 3)"
            ]
          },
          "metadata": {
            "tags": []
          },
          "execution_count": 36
        }
      ]
    },
    {
      "cell_type": "code",
      "metadata": {
        "id": "53b49c96",
        "colab": {
          "base_uri": "https://localhost:8080/"
        },
        "outputId": "ac8194e1-0d41-4f70-c02b-f09a8afdc6a4"
      },
      "source": [
        "target_train.shape"
      ],
      "id": "53b49c96",
      "execution_count": 37,
      "outputs": [
        {
          "output_type": "execute_result",
          "data": {
            "text/plain": [
              "(331,)"
            ]
          },
          "metadata": {
            "tags": []
          },
          "execution_count": 37
        }
      ]
    },
    {
      "cell_type": "code",
      "metadata": {
        "id": "07a5e004",
        "colab": {
          "base_uri": "https://localhost:8080/"
        },
        "outputId": "aceda654-996c-46ae-97c1-97d968d7f36a"
      },
      "source": [
        "features_train.ndim"
      ],
      "id": "07a5e004",
      "execution_count": 38,
      "outputs": [
        {
          "output_type": "execute_result",
          "data": {
            "text/plain": [
              "4"
            ]
          },
          "metadata": {
            "tags": []
          },
          "execution_count": 38
        }
      ]
    },
    {
      "cell_type": "code",
      "metadata": {
        "id": "bc0d5f8d",
        "colab": {
          "base_uri": "https://localhost:8080/"
        },
        "outputId": "0a86d17e-5da4-434e-8d5f-15d572cafd54"
      },
      "source": [
        "target_train.ndim"
      ],
      "id": "bc0d5f8d",
      "execution_count": 39,
      "outputs": [
        {
          "output_type": "execute_result",
          "data": {
            "text/plain": [
              "1"
            ]
          },
          "metadata": {
            "tags": []
          },
          "execution_count": 39
        }
      ]
    },
    {
      "cell_type": "code",
      "metadata": {
        "id": "6b72025e"
      },
      "source": [
        "def preprocessing(image):\n",
        "    image=cv2.cvtColor(image,cv2.COLOR_BGR2GRAY)\n",
        "    image=image/255\n",
        "    return image"
      ],
      "id": "6b72025e",
      "execution_count": 40,
      "outputs": []
    },
    {
      "cell_type": "code",
      "metadata": {
        "id": "f6d3ec3f"
      },
      "source": [
        "features_train=np.array(list(map(preprocessing,features_train)))"
      ],
      "id": "f6d3ec3f",
      "execution_count": 41,
      "outputs": []
    },
    {
      "cell_type": "code",
      "metadata": {
        "id": "8640cb6b",
        "colab": {
          "base_uri": "https://localhost:8080/"
        },
        "outputId": "5afa46b1-b8d6-4163-cbc0-9ac8364f0ef3"
      },
      "source": [
        "features_train.shape"
      ],
      "id": "8640cb6b",
      "execution_count": 42,
      "outputs": [
        {
          "output_type": "execute_result",
          "data": {
            "text/plain": [
              "(331, 100, 100)"
            ]
          },
          "metadata": {
            "tags": []
          },
          "execution_count": 42
        }
      ]
    },
    {
      "cell_type": "code",
      "metadata": {
        "id": "369ffbbb"
      },
      "source": [
        "features_train=features_train.reshape(331, 100, 100,1)"
      ],
      "id": "369ffbbb",
      "execution_count": 50,
      "outputs": []
    },
    {
      "cell_type": "code",
      "metadata": {
        "id": "2ee0a8d7"
      },
      "source": [
        "from keras.preprocessing.image import ImageDataGenerator"
      ],
      "id": "2ee0a8d7",
      "execution_count": 51,
      "outputs": []
    },
    {
      "cell_type": "code",
      "metadata": {
        "id": "b61c773a"
      },
      "source": [
        "dataGen=ImageDataGenerator(rotation_range=10,width_shift_range=0.1,height_shift_range=0.1,zoom_range=0.2,shear_range=0.1)"
      ],
      "id": "b61c773a",
      "execution_count": 52,
      "outputs": []
    },
    {
      "cell_type": "code",
      "metadata": {
        "id": "a80021cd"
      },
      "source": [
        "dataGen.fit(features_train)"
      ],
      "id": "a80021cd",
      "execution_count": 53,
      "outputs": []
    },
    {
      "cell_type": "code",
      "metadata": {
        "id": "abbf8dad"
      },
      "source": [
        "batches=dataGen.flow(features_train,target_train,batch_size=5)"
      ],
      "id": "abbf8dad",
      "execution_count": 54,
      "outputs": []
    },
    {
      "cell_type": "code",
      "metadata": {
        "id": "0741ba3c",
        "colab": {
          "base_uri": "https://localhost:8080/"
        },
        "outputId": "7fecdf16-c238-4f70-90b4-d43460469659"
      },
      "source": [
        "len(batches)"
      ],
      "id": "0741ba3c",
      "execution_count": 55,
      "outputs": [
        {
          "output_type": "execute_result",
          "data": {
            "text/plain": [
              "67"
            ]
          },
          "metadata": {
            "tags": []
          },
          "execution_count": 55
        }
      ]
    },
    {
      "cell_type": "code",
      "metadata": {
        "id": "7bc9e7f1"
      },
      "source": [
        "images,labels=next(batches)"
      ],
      "id": "7bc9e7f1",
      "execution_count": 56,
      "outputs": []
    },
    {
      "cell_type": "code",
      "metadata": {
        "id": "aa87b65b",
        "colab": {
          "base_uri": "https://localhost:8080/"
        },
        "outputId": "446e2ffc-d5c3-4479-c5bd-9c55f865b10a"
      },
      "source": [
        "images.ndim"
      ],
      "id": "aa87b65b",
      "execution_count": 57,
      "outputs": [
        {
          "output_type": "execute_result",
          "data": {
            "text/plain": [
              "4"
            ]
          },
          "metadata": {
            "tags": []
          },
          "execution_count": 57
        }
      ]
    },
    {
      "cell_type": "code",
      "metadata": {
        "id": "b3dcc6f2",
        "colab": {
          "base_uri": "https://localhost:8080/"
        },
        "outputId": "645859e4-9fd4-48fd-eb8e-df3f2a23e0ef"
      },
      "source": [
        "labels.shape"
      ],
      "id": "b3dcc6f2",
      "execution_count": 58,
      "outputs": [
        {
          "output_type": "execute_result",
          "data": {
            "text/plain": [
              "(5,)"
            ]
          },
          "metadata": {
            "tags": []
          },
          "execution_count": 58
        }
      ]
    },
    {
      "cell_type": "code",
      "metadata": {
        "id": "2671b343",
        "colab": {
          "base_uri": "https://localhost:8080/"
        },
        "outputId": "c47c42e1-ab48-43dd-c3a1-d8c4432cdc82"
      },
      "source": [
        "images.shape"
      ],
      "id": "2671b343",
      "execution_count": 59,
      "outputs": [
        {
          "output_type": "execute_result",
          "data": {
            "text/plain": [
              "(5, 100, 100, 1)"
            ]
          },
          "metadata": {
            "tags": []
          },
          "execution_count": 59
        }
      ]
    },
    {
      "cell_type": "code",
      "metadata": {
        "id": "1b4168e3"
      },
      "source": [
        "import matplotlib.pyplot as plt"
      ],
      "id": "1b4168e3",
      "execution_count": 60,
      "outputs": []
    },
    {
      "cell_type": "code",
      "metadata": {
        "id": "c4e1c099",
        "colab": {
          "base_uri": "https://localhost:8080/",
          "height": 148
        },
        "outputId": "c13ae359-1169-4dfb-925c-ff5282a95dca"
      },
      "source": [
        "plt.figure(figsize=(10,10))\n",
        "for i in range(5):\n",
        "    plt.subplot(1,5,i+1)\n",
        "    plt.imshow(images[i].reshape(100,100))\n",
        "plt.show()"
      ],
      "id": "c4e1c099",
      "execution_count": 61,
      "outputs": [
        {
          "output_type": "display_data",
          "data": {
            "image/png": "[encoded data removed]",
            "text/plain": [
              "<Figure size 720x720 with 5 Axes>"
            ]
          },
          "metadata": {
            "tags": [],
            "needs_background": "light"
          }
        }
      ]
    },
    {
      "cell_type": "code",
      "metadata": {
        "id": "1d078442",
        "colab": {
          "base_uri": "https://localhost:8080/"
        },
        "outputId": "15ce67cb-7f85-4048-d32c-74c5b3c813a3"
      },
      "source": [
        "features_train.shape"
      ],
      "id": "1d078442",
      "execution_count": 62,
      "outputs": [
        {
          "output_type": "execute_result",
          "data": {
            "text/plain": [
              "(331, 100, 100, 1)"
            ]
          },
          "metadata": {
            "tags": []
          },
          "execution_count": 62
        }
      ]
    },
    {
      "cell_type": "code",
      "metadata": {
        "id": "1dec57f1",
        "colab": {
          "base_uri": "https://localhost:8080/"
        },
        "outputId": "7c186401-2977-4a9c-d7ef-b55f89bd1908"
      },
      "source": [
        "target_train.shape"
      ],
      "id": "1dec57f1",
      "execution_count": 63,
      "outputs": [
        {
          "output_type": "execute_result",
          "data": {
            "text/plain": [
              "(331,)"
            ]
          },
          "metadata": {
            "tags": []
          },
          "execution_count": 63
        }
      ]
    },
    {
      "cell_type": "code",
      "metadata": {
        "id": "372e9fff"
      },
      "source": [
        "from keras.utils.np_utils import to_categorical"
      ],
      "id": "372e9fff",
      "execution_count": 64,
      "outputs": []
    },
    {
      "cell_type": "code",
      "metadata": {
        "id": "ffd9632d"
      },
      "source": [
        "target_train=to_categorical(target_train)"
      ],
      "id": "ffd9632d",
      "execution_count": 65,
      "outputs": []
    },
    {
      "cell_type": "code",
      "metadata": {
        "id": "68843e0b",
        "colab": {
          "base_uri": "https://localhost:8080/"
        },
        "outputId": "9f7a6c8c-fbed-48c9-fa1a-c58adadf451a"
      },
      "source": [
        "target_train.shape"
      ],
      "id": "68843e0b",
      "execution_count": 66,
      "outputs": [
        {
          "output_type": "execute_result",
          "data": {
            "text/plain": [
              "(331, 2)"
            ]
          },
          "metadata": {
            "tags": []
          },
          "execution_count": 66
        }
      ]
    },
    {
      "cell_type": "code",
      "metadata": {
        "id": "6b6052fc"
      },
      "source": [
        "from keras.layers import Dense,Flatten,Conv2D,MaxPooling2D,Dropout\n",
        "from keras.models import Sequential"
      ],
      "id": "6b6052fc",
      "execution_count": 67,
      "outputs": []
    },
    {
      "cell_type": "code",
      "metadata": {
        "id": "c85437ff"
      },
      "source": [
        "model=Sequential()\n",
        "model.add(Conv2D(100,(3,3),activation=\"relu\",input_shape=(100,100,1)))\n",
        "model.add(Conv2D(100,(3,3),activation=\"relu\"))\n",
        "model.add(MaxPooling2D(2,2))\n",
        "model.add(Conv2D(50,(3,3),activation=\"relu\"))\n",
        "model.add(Conv2D(50,(3,3),activation=\"relu\"))\n",
        "model.add(Conv2D(50,(3,3),activation=\"relu\"))\n",
        "model.add(MaxPooling2D(2,2))\n",
        "\n",
        "#model.add(Dropout(0.5)) # for overfitting model\n",
        "\n",
        "model.add(Flatten())\n",
        "model.add(Dense(500,activation=\"relu\"))\n",
        "model.add(Dense(2,activation=\"softmax\")) "
      ],
      "id": "c85437ff",
      "execution_count": 68,
      "outputs": []
    },
    {
      "cell_type": "code",
      "metadata": {
        "id": "bb35db52"
      },
      "source": [
        "from keras.optimizers import Adam"
      ],
      "id": "bb35db52",
      "execution_count": 69,
      "outputs": []
    },
    {
      "cell_type": "code",
      "metadata": {
        "id": "aa6d22b6"
      },
      "source": [
        "model.compile(Adam(learning_rate=0.0001),loss=\"categorical_crossentropy\",metrics=[\"accuracy\"])"
      ],
      "id": "aa6d22b6",
      "execution_count": 70,
      "outputs": []
    },
    {
      "cell_type": "code",
      "metadata": {
        "id": "035c3ef5",
        "colab": {
          "base_uri": "https://localhost:8080/"
        },
        "outputId": "cd3040b4-e83b-4062-8165-1412298ca5de"
      },
      "source": [
        "model.fit(dataGen.flow(features_train,target_train,batch_size=5),epochs=50)"
      ],
      "id": "035c3ef5",
      "execution_count": 71,
      "outputs": [
        {
          "output_type": "stream",
          "text": [
            "Epoch 1/50\n",
            "67/67 [==============================] - 77s 913ms/step - loss: 0.5560 - accuracy: 0.8782\n",
            "Epoch 2/50\n",
            "67/67 [==============================] - 61s 906ms/step - loss: 0.3088 - accuracy: 0.9138\n",
            "Epoch 3/50\n",
            "67/67 [==============================] - 60s 902ms/step - loss: 0.3017 - accuracy: 0.9062\n",
            "Epoch 4/50\n",
            "67/67 [==============================] - 61s 912ms/step - loss: 0.2575 - accuracy: 0.8968\n",
            "Epoch 5/50\n",
            "67/67 [==============================] - 61s 907ms/step - loss: 0.1918 - accuracy: 0.9454\n",
            "Epoch 6/50\n",
            "67/67 [==============================] - 61s 911ms/step - loss: 0.2149 - accuracy: 0.9085\n",
            "Epoch 7/50\n",
            "67/67 [==============================] - 62s 918ms/step - loss: 0.1257 - accuracy: 0.9478\n",
            "Epoch 8/50\n",
            "67/67 [==============================] - 61s 914ms/step - loss: 0.1237 - accuracy: 0.9560\n",
            "Epoch 9/50\n",
            "67/67 [==============================] - 62s 919ms/step - loss: 0.1559 - accuracy: 0.9393\n",
            "Epoch 10/50\n",
            "67/67 [==============================] - 62s 919ms/step - loss: 0.1566 - accuracy: 0.9464\n",
            "Epoch 11/50\n",
            "67/67 [==============================] - 61s 914ms/step - loss: 0.1875 - accuracy: 0.9390\n",
            "Epoch 12/50\n",
            "67/67 [==============================] - 61s 911ms/step - loss: 0.1055 - accuracy: 0.9530\n",
            "Epoch 13/50\n",
            "67/67 [==============================] - 61s 917ms/step - loss: 0.1213 - accuracy: 0.9533\n",
            "Epoch 14/50\n",
            "67/67 [==============================] - 61s 911ms/step - loss: 0.1311 - accuracy: 0.9648\n",
            "Epoch 15/50\n",
            "67/67 [==============================] - 61s 914ms/step - loss: 0.1264 - accuracy: 0.9429\n",
            "Epoch 16/50\n",
            "67/67 [==============================] - 61s 915ms/step - loss: 0.0929 - accuracy: 0.9662\n",
            "Epoch 17/50\n",
            "67/67 [==============================] - 61s 904ms/step - loss: 0.0973 - accuracy: 0.9734\n",
            "Epoch 18/50\n",
            "67/67 [==============================] - 61s 905ms/step - loss: 0.1105 - accuracy: 0.9578\n",
            "Epoch 19/50\n",
            "67/67 [==============================] - 61s 909ms/step - loss: 0.0922 - accuracy: 0.9658\n",
            "Epoch 20/50\n",
            "67/67 [==============================] - 61s 904ms/step - loss: 0.0858 - accuracy: 0.9720\n",
            "Epoch 21/50\n",
            "67/67 [==============================] - 61s 904ms/step - loss: 0.0803 - accuracy: 0.9705\n",
            "Epoch 22/50\n",
            "67/67 [==============================] - 61s 903ms/step - loss: 0.1185 - accuracy: 0.9433\n",
            "Epoch 23/50\n",
            "67/67 [==============================] - 61s 905ms/step - loss: 0.0378 - accuracy: 0.9964\n",
            "Epoch 24/50\n",
            "67/67 [==============================] - 61s 908ms/step - loss: 0.1432 - accuracy: 0.9387\n",
            "Epoch 25/50\n",
            "67/67 [==============================] - 61s 907ms/step - loss: 0.0405 - accuracy: 0.9865\n",
            "Epoch 26/50\n",
            "67/67 [==============================] - 61s 905ms/step - loss: 0.1022 - accuracy: 0.9611\n",
            "Epoch 27/50\n",
            "67/67 [==============================] - 60s 902ms/step - loss: 0.0541 - accuracy: 0.9915\n",
            "Epoch 28/50\n",
            "67/67 [==============================] - 61s 905ms/step - loss: 0.0452 - accuracy: 0.9870\n",
            "Epoch 29/50\n",
            "67/67 [==============================] - 60s 902ms/step - loss: 0.0389 - accuracy: 0.9863\n",
            "Epoch 30/50\n",
            "67/67 [==============================] - 60s 901ms/step - loss: 0.0694 - accuracy: 0.9740\n",
            "Epoch 31/50\n",
            "67/67 [==============================] - 61s 908ms/step - loss: 0.1314 - accuracy: 0.9521\n",
            "Epoch 32/50\n",
            "67/67 [==============================] - 61s 903ms/step - loss: 0.0290 - accuracy: 0.9878\n",
            "Epoch 33/50\n",
            "67/67 [==============================] - 60s 902ms/step - loss: 0.0487 - accuracy: 0.9713\n",
            "Epoch 34/50\n",
            "67/67 [==============================] - 60s 901ms/step - loss: 0.0679 - accuracy: 0.9792\n",
            "Epoch 35/50\n",
            "67/67 [==============================] - 61s 906ms/step - loss: 0.0413 - accuracy: 0.9870\n",
            "Epoch 36/50\n",
            "67/67 [==============================] - 61s 911ms/step - loss: 0.0373 - accuracy: 0.9879\n",
            "Epoch 37/50\n",
            "67/67 [==============================] - 61s 912ms/step - loss: 0.0325 - accuracy: 0.9960\n",
            "Epoch 38/50\n",
            "67/67 [==============================] - 60s 901ms/step - loss: 0.0621 - accuracy: 0.9829\n",
            "Epoch 39/50\n",
            "67/67 [==============================] - 60s 902ms/step - loss: 0.0430 - accuracy: 0.9819\n",
            "Epoch 40/50\n",
            "67/67 [==============================] - 60s 902ms/step - loss: 0.0600 - accuracy: 0.9732\n",
            "Epoch 41/50\n",
            "67/67 [==============================] - 61s 909ms/step - loss: 0.0363 - accuracy: 0.9828\n",
            "Epoch 42/50\n",
            "67/67 [==============================] - 60s 901ms/step - loss: 0.1303 - accuracy: 0.9657\n",
            "Epoch 43/50\n",
            "67/67 [==============================] - 61s 904ms/step - loss: 0.0250 - accuracy: 0.9939\n",
            "Epoch 44/50\n",
            "67/67 [==============================] - 61s 903ms/step - loss: 0.0255 - accuracy: 0.9945\n",
            "Epoch 45/50\n",
            "67/67 [==============================] - 61s 903ms/step - loss: 0.0167 - accuracy: 0.9959\n",
            "Epoch 46/50\n",
            "67/67 [==============================] - 61s 911ms/step - loss: 0.0272 - accuracy: 0.9889\n",
            "Epoch 47/50\n",
            "67/67 [==============================] - 61s 905ms/step - loss: 0.0280 - accuracy: 0.9865\n",
            "Epoch 48/50\n",
            "67/67 [==============================] - 61s 907ms/step - loss: 0.0419 - accuracy: 0.9817\n",
            "Epoch 49/50\n",
            "67/67 [==============================] - 61s 907ms/step - loss: 0.0109 - accuracy: 0.9987\n",
            "Epoch 50/50\n",
            "67/67 [==============================] - 61s 906ms/step - loss: 0.0624 - accuracy: 0.9793\n"
          ],
          "name": "stdout"
        },
        {
          "output_type": "execute_result",
          "data": {
            "text/plain": [
              "<keras.callbacks.History at 0x7fbc87600590>"
            ]
          },
          "metadata": {
            "tags": []
          },
          "execution_count": 71
        }
      ]
    },
    {
      "cell_type": "code",
      "metadata": {
        "id": "fc360571",
        "colab": {
          "base_uri": "https://localhost:8080/"
        },
        "outputId": "e86c47a3-154c-4ba2-c89a-9cbb25ffb948"
      },
      "source": [
        "model_json=model.to_json() # converting to json file\n",
        "with open(\"DarkSpots.json\",\"w\") as abc:\n",
        "    abc.write(model_json)\n",
        "    abc.close()\n",
        "model.save_weights(\"DarkSpotsWeights.h5\") # saving the weights as hdf 5 file\n",
        "print(\"Save the Model\")"
      ],
      "id": "fc360571",
      "execution_count": 73,
      "outputs": [
        {
          "output_type": "stream",
          "text": [
            "Save the Model\n"
          ],
          "name": "stdout"
        }
      ]
    },
    {
      "cell_type": "code",
      "metadata": {
        "id": "131f3a41",
        "colab": {
          "base_uri": "https://localhost:8080/"
        },
        "outputId": "d4d77ed6-36f9-4e4f-a3b2-072c86fa9a12"
      },
      "source": [
        "from keras.models import model_from_json\n",
        "json_file=open(\"DarkSpots.json\",\"r\")\n",
        "loaded_model_json=json_file.read()\n",
        "json_file.close()\n",
        "loaded_model=model_from_json(loaded_model_json)\n",
        "loaded_model.load_weights(\"DarkSpotsWeights.h5\")\n",
        "print(\"Loaded model successfully\")"
      ],
      "id": "131f3a41",
      "execution_count": 74,
      "outputs": [
        {
          "output_type": "stream",
          "text": [
            "Loaded model successfully\n"
          ],
          "name": "stdout"
        }
      ]
    },
    {
      "cell_type": "code",
      "metadata": {
        "id": "30794057"
      },
      "source": [
        "def getClassName(classNo):\n",
        "    if classNo == 0: return \"No Dark Spots\"\n",
        "    elif classNo == 1: return \"Dark Spots\""
      ],
      "id": "30794057",
      "execution_count": 75,
      "outputs": []
    },
    {
      "cell_type": "code",
      "metadata": {
        "id": "568129ed"
      },
      "source": [
        ""
      ],
      "id": "568129ed",
      "execution_count": null,
      "outputs": []
    }
  ]
}