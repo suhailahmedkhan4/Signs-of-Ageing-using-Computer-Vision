{
  "nbformat": 4,
  "nbformat_minor": 5,
  "metadata": {
    "accelerator": "GPU",
    "colab": {
      "name": "PuffyEyes.ipynb",
      "provenance": [],
      "collapsed_sections": []
    },
    "kernelspec": {
      "display_name": "Python 3",
      "language": "python",
      "name": "python3"
    },
    "language_info": {
      "codemirror_mode": {
        "name": "ipython",
        "version": 3
      },
      "file_extension": ".py",
      "mimetype": "text/x-python",
      "name": "python",
      "nbconvert_exporter": "python",
      "pygments_lexer": "ipython3",
      "version": "3.8.8"
    }
  },
  "cells": [
    {
      "cell_type": "code",
      "metadata": {
        "id": "f10ecdee"
      },
      "source": [
        "import tensorflow as tf\n",
        "import pandas as pd\n",
        "import numpy as np\n",
        "import os\n",
        "import cv2"
      ],
      "id": "f10ecdee",
      "execution_count": null,
      "outputs": []
    },
    {
      "cell_type": "code",
      "metadata": {
        "colab": {
          "base_uri": "https://localhost:8080/"
        },
        "id": "PJ2no_T2L1kP",
        "outputId": "37fdb321-2f4a-43b5-f258-356597f69c17"
      },
      "source": [
        "from google.colab import drive\n",
        "drive.mount('/content/drive')"
      ],
      "id": "PJ2no_T2L1kP",
      "execution_count": null,
      "outputs": [
        {
          "output_type": "stream",
          "text": [
            "Mounted at /content/drive\n"
          ],
          "name": "stdout"
        }
      ]
    },
    {
      "cell_type": "code",
      "metadata": {
        "id": "79660666"
      },
      "source": [
        "folder_list=os.listdir(\"/content/drive/MyDrive/ML Major/AnyConv.com__puffy eyes (2)\")"
      ],
      "id": "79660666",
      "execution_count": null,
      "outputs": []
    },
    {
      "cell_type": "code",
      "metadata": {
        "colab": {
          "base_uri": "https://localhost:8080/"
        },
        "id": "433d6384",
        "outputId": "fe14be11-c517-4c35-d054-b23868e6d275"
      },
      "source": [
        "folder_list"
      ],
      "id": "433d6384",
      "execution_count": null,
      "outputs": [
        {
          "output_type": "execute_result",
          "data": {
            "text/plain": [
              "['puffy eyes', 'No puffy eyes']"
            ]
          },
          "metadata": {
            "tags": []
          },
          "execution_count": 4
        }
      ]
    },
    {
      "cell_type": "code",
      "metadata": {
        "colab": {
          "base_uri": "https://localhost:8080/"
        },
        "id": "5ea6713f",
        "outputId": "b7e15871-c343-4cb6-989c-39f51d5c6e8c"
      },
      "source": [
        "features_train=[]\n",
        "target_train=[]\n",
        "for folder in folder_list:\n",
        "    ImgNames_list=os.listdir(\"/content/drive/MyDrive/ML Major/AnyConv.com__puffy eyes (2)\"+\"/\"+folder)\n",
        "    print(\"In Folder : \",folder)\n",
        "    for imgName in ImgNames_list:\n",
        "        Imgarr=cv2.imread(\"/content/drive/MyDrive/ML Major/AnyConv.com__puffy eyes (2)\"+\"/\"+folder+\"/\"+imgName)\n",
        "        # there might be images of size less than 100 by 100 and so error occurs\n",
        "        try:\n",
        "            Imgarr=cv2.resize(Imgarr,(100,100))\n",
        "        except: \n",
        "            pass\n",
        "        else:\n",
        "            features_train.append(Imgarr)\n",
        "            if folder==\"No puffy eyes\":\n",
        "                target_train.append(0)\n",
        "            else:\n",
        "                target_train.append(1)"
      ],
      "id": "5ea6713f",
      "execution_count": null,
      "outputs": [
        {
          "output_type": "stream",
          "text": [
            "In Folder :  puffy eyes\n",
            "In Folder :  No puffy eyes\n"
          ],
          "name": "stdout"
        }
      ]
    },
    {
      "cell_type": "code",
      "metadata": {
        "id": "8e869a1d"
      },
      "source": [
        "features_train=np.array(features_train)\n",
        "target_train=np.array(target_train)"
      ],
      "id": "8e869a1d",
      "execution_count": null,
      "outputs": []
    },
    {
      "cell_type": "code",
      "metadata": {
        "colab": {
          "base_uri": "https://localhost:8080/"
        },
        "id": "8acf0b29",
        "outputId": "40e9665d-9dad-490d-d972-5540b5e4e029"
      },
      "source": [
        "features_train.shape"
      ],
      "id": "8acf0b29",
      "execution_count": null,
      "outputs": [
        {
          "output_type": "execute_result",
          "data": {
            "text/plain": [
              "(500, 100, 100, 3)"
            ]
          },
          "metadata": {
            "tags": []
          },
          "execution_count": 7
        }
      ]
    },
    {
      "cell_type": "code",
      "metadata": {
        "colab": {
          "base_uri": "https://localhost:8080/"
        },
        "id": "6644ae2a",
        "outputId": "b6bb6e03-3113-4afd-ee92-c22fae72e477"
      },
      "source": [
        "target_train.shape"
      ],
      "id": "6644ae2a",
      "execution_count": null,
      "outputs": [
        {
          "output_type": "execute_result",
          "data": {
            "text/plain": [
              "(500,)"
            ]
          },
          "metadata": {
            "tags": []
          },
          "execution_count": 8
        }
      ]
    },
    {
      "cell_type": "code",
      "metadata": {
        "colab": {
          "base_uri": "https://localhost:8080/"
        },
        "id": "68f00afc",
        "outputId": "f846e05b-ec3f-4524-93ac-d0332725b942"
      },
      "source": [
        "features_train.ndim"
      ],
      "id": "68f00afc",
      "execution_count": null,
      "outputs": [
        {
          "output_type": "execute_result",
          "data": {
            "text/plain": [
              "4"
            ]
          },
          "metadata": {
            "tags": []
          },
          "execution_count": 9
        }
      ]
    },
    {
      "cell_type": "code",
      "metadata": {
        "colab": {
          "base_uri": "https://localhost:8080/"
        },
        "id": "e9a88ff2",
        "outputId": "8393c411-d4a0-4462-ca2b-c488e148beec"
      },
      "source": [
        "target_train.ndim"
      ],
      "id": "e9a88ff2",
      "execution_count": null,
      "outputs": [
        {
          "output_type": "execute_result",
          "data": {
            "text/plain": [
              "1"
            ]
          },
          "metadata": {
            "tags": []
          },
          "execution_count": 10
        }
      ]
    },
    {
      "cell_type": "code",
      "metadata": {
        "id": "82d4e5e8"
      },
      "source": [
        "def preprocessing(image):\n",
        "    image=cv2.cvtColor(image,cv2.COLOR_BGR2GRAY)\n",
        "    image=image/255\n",
        "    return image"
      ],
      "id": "82d4e5e8",
      "execution_count": null,
      "outputs": []
    },
    {
      "cell_type": "code",
      "metadata": {
        "id": "563620db"
      },
      "source": [
        "features_train=np.array(list(map(preprocessing,features_train)))"
      ],
      "id": "563620db",
      "execution_count": null,
      "outputs": []
    },
    {
      "cell_type": "code",
      "metadata": {
        "colab": {
          "base_uri": "https://localhost:8080/"
        },
        "id": "5aead931",
        "outputId": "37c3362e-07c0-4472-fe01-36caf6392a8a"
      },
      "source": [
        "features_train.shape"
      ],
      "id": "5aead931",
      "execution_count": null,
      "outputs": [
        {
          "output_type": "execute_result",
          "data": {
            "text/plain": [
              "(500, 100, 100)"
            ]
          },
          "metadata": {
            "tags": []
          },
          "execution_count": 13
        }
      ]
    },
    {
      "cell_type": "code",
      "metadata": {
        "id": "3be7c55c"
      },
      "source": [
        "features_train=features_train.reshape(500, 100, 100,1)"
      ],
      "id": "3be7c55c",
      "execution_count": null,
      "outputs": []
    },
    {
      "cell_type": "code",
      "metadata": {
        "id": "0e6b9d70"
      },
      "source": [
        "from keras.preprocessing.image import ImageDataGenerator"
      ],
      "id": "0e6b9d70",
      "execution_count": null,
      "outputs": []
    },
    {
      "cell_type": "code",
      "metadata": {
        "id": "00a7240b"
      },
      "source": [
        "dataGen=ImageDataGenerator(rotation_range=10,width_shift_range=0.1,height_shift_range=0.1,zoom_range=0.2,shear_range=0.1)"
      ],
      "id": "00a7240b",
      "execution_count": null,
      "outputs": []
    },
    {
      "cell_type": "code",
      "metadata": {
        "id": "d4aa1022"
      },
      "source": [
        "dataGen.fit(features_train)"
      ],
      "id": "d4aa1022",
      "execution_count": null,
      "outputs": []
    },
    {
      "cell_type": "code",
      "metadata": {
        "id": "d6342cb3"
      },
      "source": [
        "batches=dataGen.flow(features_train,target_train,batch_size=5)"
      ],
      "id": "d6342cb3",
      "execution_count": null,
      "outputs": []
    },
    {
      "cell_type": "code",
      "metadata": {
        "colab": {
          "base_uri": "https://localhost:8080/"
        },
        "id": "6e95096f",
        "outputId": "6877554a-82b9-4943-9611-3abfe2e4ed32"
      },
      "source": [
        "len(batches)"
      ],
      "id": "6e95096f",
      "execution_count": null,
      "outputs": [
        {
          "output_type": "execute_result",
          "data": {
            "text/plain": [
              "100"
            ]
          },
          "metadata": {
            "tags": []
          },
          "execution_count": 19
        }
      ]
    },
    {
      "cell_type": "code",
      "metadata": {
        "id": "fc55f1df"
      },
      "source": [
        "images,labels=next(batches)"
      ],
      "id": "fc55f1df",
      "execution_count": null,
      "outputs": []
    },
    {
      "cell_type": "code",
      "metadata": {
        "colab": {
          "base_uri": "https://localhost:8080/"
        },
        "id": "26441a1f",
        "outputId": "efa4cf20-7442-4f51-a7bf-4b3ebfe2f5c5"
      },
      "source": [
        "images.ndim"
      ],
      "id": "26441a1f",
      "execution_count": null,
      "outputs": [
        {
          "output_type": "execute_result",
          "data": {
            "text/plain": [
              "4"
            ]
          },
          "metadata": {
            "tags": []
          },
          "execution_count": 21
        }
      ]
    },
    {
      "cell_type": "code",
      "metadata": {
        "colab": {
          "base_uri": "https://localhost:8080/"
        },
        "id": "8d22df06",
        "outputId": "8bb093fc-f369-4cca-ce0e-79f198b8fcb6"
      },
      "source": [
        "labels.shape"
      ],
      "id": "8d22df06",
      "execution_count": null,
      "outputs": [
        {
          "output_type": "execute_result",
          "data": {
            "text/plain": [
              "(5,)"
            ]
          },
          "metadata": {
            "tags": []
          },
          "execution_count": 22
        }
      ]
    },
    {
      "cell_type": "code",
      "metadata": {
        "colab": {
          "base_uri": "https://localhost:8080/"
        },
        "id": "2eb104fd",
        "outputId": "51f726e8-546b-447b-b2ae-853e38f9a373"
      },
      "source": [
        "images.shape"
      ],
      "id": "2eb104fd",
      "execution_count": null,
      "outputs": [
        {
          "output_type": "execute_result",
          "data": {
            "text/plain": [
              "(5, 100, 100, 1)"
            ]
          },
          "metadata": {
            "tags": []
          },
          "execution_count": 23
        }
      ]
    },
    {
      "cell_type": "code",
      "metadata": {
        "id": "482d8ce5"
      },
      "source": [
        "import matplotlib.pyplot as plt"
      ],
      "id": "482d8ce5",
      "execution_count": null,
      "outputs": []
    },
    {
      "cell_type": "code",
      "metadata": {
        "colab": {
          "base_uri": "https://localhost:8080/",
          "height": 148
        },
        "id": "c7492968",
        "outputId": "b632553b-3e86-4585-f2ae-427f6a6f2bbb"
      },
      "source": [
        "plt.figure(figsize=(10,10))\n",
        "for i in range(5):\n",
        "    plt.subplot(1,5,i+1)\n",
        "    plt.imshow(images[i].reshape(100,100))\n",
        "plt.show()"
      ],
      "id": "c7492968",
      "execution_count": null,
      "outputs": [
        {
          "output_type": "display_data",
          "data": {
            "image/png": "[encoded data removed]",
            "text/plain": [
              "<Figure size 720x720 with 5 Axes>"
            ]
          },
          "metadata": {
            "tags": [],
            "needs_background": "light"
          }
        }
      ]
    },
    {
      "cell_type": "code",
      "metadata": {
        "colab": {
          "base_uri": "https://localhost:8080/"
        },
        "id": "b12af9bc",
        "outputId": "7a4a0f4f-45bd-4dab-c773-4a215619a874"
      },
      "source": [
        "features_train.shape"
      ],
      "id": "b12af9bc",
      "execution_count": null,
      "outputs": [
        {
          "output_type": "execute_result",
          "data": {
            "text/plain": [
              "(500, 100, 100, 1)"
            ]
          },
          "metadata": {
            "tags": []
          },
          "execution_count": 26
        }
      ]
    },
    {
      "cell_type": "code",
      "metadata": {
        "colab": {
          "base_uri": "https://localhost:8080/"
        },
        "id": "6193a7e6",
        "outputId": "bce11a20-4a8a-4945-f312-6c4f355f91cf"
      },
      "source": [
        "target_train.shape"
      ],
      "id": "6193a7e6",
      "execution_count": null,
      "outputs": [
        {
          "output_type": "execute_result",
          "data": {
            "text/plain": [
              "(500,)"
            ]
          },
          "metadata": {
            "tags": []
          },
          "execution_count": 27
        }
      ]
    },
    {
      "cell_type": "code",
      "metadata": {
        "id": "1a4c79a5"
      },
      "source": [
        "from keras.utils.np_utils import to_categorical"
      ],
      "id": "1a4c79a5",
      "execution_count": null,
      "outputs": []
    },
    {
      "cell_type": "code",
      "metadata": {
        "id": "6c1e6b98"
      },
      "source": [
        "target_train=to_categorical(target_train)"
      ],
      "id": "6c1e6b98",
      "execution_count": null,
      "outputs": []
    },
    {
      "cell_type": "code",
      "metadata": {
        "colab": {
          "base_uri": "https://localhost:8080/"
        },
        "id": "27f27e6c",
        "outputId": "add59793-f5fa-48a8-cb60-610b225361a3"
      },
      "source": [
        "target_train.shape"
      ],
      "id": "27f27e6c",
      "execution_count": null,
      "outputs": [
        {
          "output_type": "execute_result",
          "data": {
            "text/plain": [
              "(500, 2)"
            ]
          },
          "metadata": {
            "tags": []
          },
          "execution_count": 30
        }
      ]
    },
    {
      "cell_type": "code",
      "metadata": {
        "id": "e4ac81c1"
      },
      "source": [
        "from keras.layers import Dense,Flatten,Conv2D,MaxPooling2D,Dropout\n",
        "from keras.models import Sequential"
      ],
      "id": "e4ac81c1",
      "execution_count": null,
      "outputs": []
    },
    {
      "cell_type": "code",
      "metadata": {
        "id": "12c86f57"
      },
      "source": [
        "model=Sequential()\n",
        "model.add(Conv2D(120,(3,3),activation=\"relu\",input_shape=(100,100,1)))\n",
        "model.add(Conv2D(120,(3,3),activation=\"relu\"))\n",
        "model.add(MaxPooling2D(2,2))\n",
        "model.add(Conv2D(50,(3,3),activation=\"relu\"))\n",
        "model.add(Conv2D(50,(3,3),activation=\"relu\"))\n",
        "model.add(Conv2D(50,(3,3),activation=\"relu\"))\n",
        "model.add(MaxPooling2D(2,2))\n",
        "\n",
        "#model.add(Dropout(0.5)) # for overfitting model\n",
        "\n",
        "model.add(Flatten())\n",
        "model.add(Dense(500,activation=\"relu\"))\n",
        "model.add(Dense(2,activation=\"softmax\")) "
      ],
      "id": "12c86f57",
      "execution_count": null,
      "outputs": []
    },
    {
      "cell_type": "code",
      "metadata": {
        "id": "903e4c71"
      },
      "source": [
        "from keras.optimizers import Adam"
      ],
      "id": "903e4c71",
      "execution_count": null,
      "outputs": []
    },
    {
      "cell_type": "code",
      "metadata": {
        "id": "3fc05b67"
      },
      "source": [
        "model.compile(Adam(learning_rate=0.0001),loss=\"categorical_crossentropy\",metrics=[\"accuracy\"])"
      ],
      "id": "3fc05b67",
      "execution_count": null,
      "outputs": []
    },
    {
      "cell_type": "code",
      "metadata": {
        "id": "0b15ddbe",
        "colab": {
          "base_uri": "https://localhost:8080/"
        },
        "outputId": "188cb1cb-1d26-4ffd-ecb7-5cca2250454a"
      },
      "source": [
        "model.fit(dataGen.flow(features_train,target_train,batch_size=5),epochs=50)"
      ],
      "id": "0b15ddbe",
      "execution_count": null,
      "outputs": [
        {
          "output_type": "stream",
          "text": [
            "Epoch 1/50\n",
            "100/100 [==============================] - 45s 17ms/step - loss: 0.6548 - accuracy: 0.5985\n",
            "Epoch 2/50\n",
            "100/100 [==============================] - 2s 17ms/step - loss: 0.5058 - accuracy: 0.7615\n",
            "Epoch 3/50\n",
            "100/100 [==============================] - 2s 17ms/step - loss: 0.4638 - accuracy: 0.7901\n",
            "Epoch 4/50\n",
            "100/100 [==============================] - 2s 17ms/step - loss: 0.3711 - accuracy: 0.8412\n",
            "Epoch 5/50\n",
            "100/100 [==============================] - 2s 17ms/step - loss: 0.3938 - accuracy: 0.8147\n",
            "Epoch 6/50\n",
            "100/100 [==============================] - 2s 17ms/step - loss: 0.3285 - accuracy: 0.8676\n",
            "Epoch 7/50\n",
            "100/100 [==============================] - 2s 17ms/step - loss: 0.3034 - accuracy: 0.8690\n",
            "Epoch 8/50\n",
            "100/100 [==============================] - 2s 17ms/step - loss: 0.3129 - accuracy: 0.8676\n",
            "Epoch 9/50\n",
            "100/100 [==============================] - 2s 17ms/step - loss: 0.2746 - accuracy: 0.8846\n",
            "Epoch 10/50\n",
            "100/100 [==============================] - 2s 17ms/step - loss: 0.2767 - accuracy: 0.8864\n",
            "Epoch 11/50\n",
            "100/100 [==============================] - 2s 18ms/step - loss: 0.2974 - accuracy: 0.8680\n",
            "Epoch 12/50\n",
            "100/100 [==============================] - 2s 18ms/step - loss: 0.2713 - accuracy: 0.8691\n",
            "Epoch 13/50\n",
            "100/100 [==============================] - 2s 17ms/step - loss: 0.2445 - accuracy: 0.8937\n",
            "Epoch 14/50\n",
            "100/100 [==============================] - 2s 17ms/step - loss: 0.2895 - accuracy: 0.8780\n",
            "Epoch 15/50\n",
            "100/100 [==============================] - 2s 17ms/step - loss: 0.2825 - accuracy: 0.8753\n",
            "Epoch 16/50\n",
            "100/100 [==============================] - 2s 17ms/step - loss: 0.3081 - accuracy: 0.8844\n",
            "Epoch 17/50\n",
            "100/100 [==============================] - 2s 18ms/step - loss: 0.2042 - accuracy: 0.9281\n",
            "Epoch 18/50\n",
            "100/100 [==============================] - 2s 18ms/step - loss: 0.2674 - accuracy: 0.8794\n",
            "Epoch 19/50\n",
            "100/100 [==============================] - 2s 17ms/step - loss: 0.1852 - accuracy: 0.9158\n",
            "Epoch 20/50\n",
            "100/100 [==============================] - 2s 18ms/step - loss: 0.1849 - accuracy: 0.9224\n",
            "Epoch 21/50\n",
            "100/100 [==============================] - 2s 18ms/step - loss: 0.1907 - accuracy: 0.9274\n",
            "Epoch 22/50\n",
            "100/100 [==============================] - 2s 18ms/step - loss: 0.2016 - accuracy: 0.9201\n",
            "Epoch 23/50\n",
            "100/100 [==============================] - 2s 18ms/step - loss: 0.1963 - accuracy: 0.9136\n",
            "Epoch 24/50\n",
            "100/100 [==============================] - 2s 18ms/step - loss: 0.2106 - accuracy: 0.8950\n",
            "Epoch 25/50\n",
            "100/100 [==============================] - 2s 17ms/step - loss: 0.2180 - accuracy: 0.8943\n",
            "Epoch 26/50\n",
            "100/100 [==============================] - 2s 18ms/step - loss: 0.1971 - accuracy: 0.9331\n",
            "Epoch 27/50\n",
            "100/100 [==============================] - 2s 18ms/step - loss: 0.1408 - accuracy: 0.9438\n",
            "Epoch 28/50\n",
            "100/100 [==============================] - 2s 18ms/step - loss: 0.1722 - accuracy: 0.9207\n",
            "Epoch 29/50\n",
            "100/100 [==============================] - 2s 18ms/step - loss: 0.1605 - accuracy: 0.9464\n",
            "Epoch 30/50\n",
            "100/100 [==============================] - 2s 18ms/step - loss: 0.1724 - accuracy: 0.9283\n",
            "Epoch 31/50\n",
            "100/100 [==============================] - 2s 18ms/step - loss: 0.1248 - accuracy: 0.9623\n",
            "Epoch 32/50\n",
            "100/100 [==============================] - 2s 17ms/step - loss: 0.1300 - accuracy: 0.9433\n",
            "Epoch 33/50\n",
            "100/100 [==============================] - 2s 18ms/step - loss: 0.1288 - accuracy: 0.9503\n",
            "Epoch 34/50\n",
            "100/100 [==============================] - 2s 18ms/step - loss: 0.1331 - accuracy: 0.9520\n",
            "Epoch 35/50\n",
            "100/100 [==============================] - 2s 18ms/step - loss: 0.0951 - accuracy: 0.9641\n",
            "Epoch 36/50\n",
            "100/100 [==============================] - 2s 18ms/step - loss: 0.1166 - accuracy: 0.9545\n",
            "Epoch 37/50\n",
            "100/100 [==============================] - 2s 18ms/step - loss: 0.1759 - accuracy: 0.9406\n",
            "Epoch 38/50\n",
            "100/100 [==============================] - 2s 17ms/step - loss: 0.1480 - accuracy: 0.9567\n",
            "Epoch 39/50\n",
            "100/100 [==============================] - 2s 17ms/step - loss: 0.0973 - accuracy: 0.9713\n",
            "Epoch 40/50\n",
            "100/100 [==============================] - 2s 18ms/step - loss: 0.1019 - accuracy: 0.9654\n",
            "Epoch 41/50\n",
            "100/100 [==============================] - 2s 18ms/step - loss: 0.0765 - accuracy: 0.9715\n",
            "Epoch 42/50\n",
            "100/100 [==============================] - 2s 17ms/step - loss: 0.1061 - accuracy: 0.9543\n",
            "Epoch 43/50\n",
            "100/100 [==============================] - 2s 17ms/step - loss: 0.0817 - accuracy: 0.9667\n",
            "Epoch 44/50\n",
            "100/100 [==============================] - 2s 17ms/step - loss: 0.1410 - accuracy: 0.9385\n",
            "Epoch 45/50\n",
            "100/100 [==============================] - 2s 18ms/step - loss: 0.1167 - accuracy: 0.9597\n",
            "Epoch 46/50\n",
            "100/100 [==============================] - 2s 17ms/step - loss: 0.0887 - accuracy: 0.9666\n",
            "Epoch 47/50\n",
            "100/100 [==============================] - 2s 17ms/step - loss: 0.0564 - accuracy: 0.9789\n",
            "Epoch 48/50\n",
            "100/100 [==============================] - 2s 17ms/step - loss: 0.0575 - accuracy: 0.9772\n",
            "Epoch 49/50\n",
            "100/100 [==============================] - 2s 18ms/step - loss: 0.1109 - accuracy: 0.9564\n",
            "Epoch 50/50\n",
            "100/100 [==============================] - 2s 17ms/step - loss: 0.0621 - accuracy: 0.9839\n"
          ],
          "name": "stdout"
        },
        {
          "output_type": "execute_result",
          "data": {
            "text/plain": [
              "<keras.callbacks.History at 0x7f6835e85b90>"
            ]
          },
          "metadata": {
            "tags": []
          },
          "execution_count": 35
        }
      ]
    },
    {
      "cell_type": "code",
      "metadata": {
        "id": "eada1d81",
        "colab": {
          "base_uri": "https://localhost:8080/"
        },
        "outputId": "9d04b616-2cdb-45aa-a37e-ce42b6b4df7f"
      },
      "source": [
        "model_json=model.to_json() # converted to json file\n",
        "with open(\"Puffy.json\",\"w\") as abc:\n",
        "    abc.write(model_json)\n",
        "    abc.close()\n",
        "model.save_weights(\"PuffyWeights.h5\") # saving weights as hdf 5 file\n",
        "print(\"Save the Model\")"
      ],
      "id": "eada1d81",
      "execution_count": null,
      "outputs": [
        {
          "output_type": "stream",
          "text": [
            "Save the Model\n"
          ],
          "name": "stdout"
        }
      ]
    },
    {
      "cell_type": "code",
      "metadata": {
        "id": "3de47ec0",
        "colab": {
          "base_uri": "https://localhost:8080/"
        },
        "outputId": "e95a151f-6b4e-402e-efea-89969242890b"
      },
      "source": [
        "from keras.models import model_from_json\n",
        "json_file=open(\"Puffy.json\",\"r\")\n",
        "loaded_model_json=json_file.read()\n",
        "json_file.close()\n",
        "loaded_model=model_from_json(loaded_model_json)\n",
        "loaded_model.load_weights(\"PuffyWeights.h5\")\n",
        "print(\"Loaded model successfully\")"
      ],
      "id": "3de47ec0",
      "execution_count": null,
      "outputs": [
        {
          "output_type": "stream",
          "text": [
            "Loaded model successfully\n"
          ],
          "name": "stdout"
        }
      ]
    },
    {
      "cell_type": "code",
      "metadata": {
        "id": "3bf44b09"
      },
      "source": [
        "def preprocessing(image):\n",
        "    image=cv2.cvtColor(image,cv2.COLOR_BGR2GRAY)\n",
        "    image=image/255\n",
        "    return image"
      ],
      "id": "3bf44b09",
      "execution_count": null,
      "outputs": []
    },
    {
      "cell_type": "code",
      "metadata": {
        "id": "f8ec5327"
      },
      "source": [
        "def getClassName(classNo):\n",
        "    if classNo == 0: return \"No Puffy Eyes\"\n",
        "    elif classNo == 1: return \"Puffy Eyes\""
      ],
      "id": "f8ec5327",
      "execution_count": null,
      "outputs": []
    }
  ]
}