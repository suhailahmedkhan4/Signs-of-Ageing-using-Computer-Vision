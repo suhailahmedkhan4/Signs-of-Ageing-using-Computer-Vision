{
  "nbformat": 4,
  "nbformat_minor": 5,
  "metadata": {
    "kernelspec": {
      "display_name": "Python 3",
      "language": "python",
      "name": "python3"
    },
    "language_info": {
      "codemirror_mode": {
        "name": "ipython",
        "version": 3
      },
      "file_extension": ".py",
      "mimetype": "text/x-python",
      "name": "python",
      "nbconvert_exporter": "python",
      "pygments_lexer": "ipython3",
      "version": "3.8.8"
    },
    "colab": {
      "name": "Wrinkles.ipynb",
      "provenance": [],
      "collapsed_sections": []
    },
    "accelerator": "GPU"
  },
  "cells": [
    {
      "cell_type": "code",
      "metadata": {
        "id": "f2445dd9"
      },
      "source": [
        "import tensorflow as tf\n",
        "import pandas as pd\n",
        "import numpy as np\n",
        "import os\n",
        "import cv2"
      ],
      "id": "f2445dd9",
      "execution_count": null,
      "outputs": []
    },
    {
      "cell_type": "code",
      "metadata": {
        "colab": {
          "base_uri": "https://localhost:8080/"
        },
        "id": "jlUWMttZORuj",
        "outputId": "8351fd2b-0843-46b8-b120-e84bbe8539f8"
      },
      "source": [
        "from google.colab import drive\n",
        "drive.mount('/content/drive')"
      ],
      "id": "jlUWMttZORuj",
      "execution_count": null,
      "outputs": [
        {
          "output_type": "stream",
          "text": [
            "Mounted at /content/drive\n"
          ],
          "name": "stdout"
        }
      ]
    },
    {
      "cell_type": "code",
      "metadata": {
        "id": "1ced705a"
      },
      "source": [
        "folder_list=os.listdir(\"/content/drive/MyDrive/ML Major/AnyConv.com__wrinkles (2)\")"
      ],
      "id": "1ced705a",
      "execution_count": null,
      "outputs": []
    },
    {
      "cell_type": "code",
      "metadata": {
        "colab": {
          "base_uri": "https://localhost:8080/"
        },
        "id": "e02ea0bd",
        "outputId": "c62c53fe-adf6-4086-c46f-c8e1856b86c1"
      },
      "source": [
        "folder_list"
      ],
      "id": "e02ea0bd",
      "execution_count": null,
      "outputs": [
        {
          "output_type": "execute_result",
          "data": {
            "text/plain": [
              "['wrinkles', 'No wrinkles']"
            ]
          },
          "metadata": {
            "tags": []
          },
          "execution_count": 4
        }
      ]
    },
    {
      "cell_type": "code",
      "metadata": {
        "colab": {
          "base_uri": "https://localhost:8080/"
        },
        "id": "ffb45f70",
        "outputId": "e840858d-2edd-477c-ddea-8f9e3dcec714"
      },
      "source": [
        "features_train=[]\n",
        "target_train=[]\n",
        "for folder in folder_list:\n",
        "    ImgNames_list=os.listdir(\"/content/drive/MyDrive/ML Major/AnyConv.com__wrinkles (2)\"+\"/\"+folder)\n",
        "    print(\"In Folder : \",folder)\n",
        "    for imgName in ImgNames_list:\n",
        "        Imgarr=cv2.imread(\"/content/drive/MyDrive/ML Major/AnyConv.com__wrinkles (2)\"+\"/\"+folder+\"/\"+imgName)\n",
        "        # there might be images of size less than 100 by 100 and so error occurs\n",
        "        try:\n",
        "            Imgarr=cv2.resize(Imgarr,(100,100))\n",
        "        except: # we need to write atleast one line of code\n",
        "            pass\n",
        "        else:\n",
        "            features_train.append(Imgarr)\n",
        "            if folder==\"No wrinkles\":\n",
        "                target_train.append(0)\n",
        "            else:\n",
        "                target_train.append(1)"
      ],
      "id": "ffb45f70",
      "execution_count": null,
      "outputs": [
        {
          "output_type": "stream",
          "text": [
            "In Folder :  wrinkles\n",
            "In Folder :  No wrinkles\n"
          ],
          "name": "stdout"
        }
      ]
    },
    {
      "cell_type": "code",
      "metadata": {
        "id": "250b1f1a"
      },
      "source": [
        "features_train=np.array(features_train)\n",
        "target_train=np.array(target_train)"
      ],
      "id": "250b1f1a",
      "execution_count": null,
      "outputs": []
    },
    {
      "cell_type": "code",
      "metadata": {
        "colab": {
          "base_uri": "https://localhost:8080/"
        },
        "id": "7eca2474",
        "outputId": "aa1c1a6f-c781-45f6-e3f9-ee4523f96f14"
      },
      "source": [
        "features_train.shape"
      ],
      "id": "7eca2474",
      "execution_count": null,
      "outputs": [
        {
          "output_type": "execute_result",
          "data": {
            "text/plain": [
              "(496, 100, 100, 3)"
            ]
          },
          "metadata": {
            "tags": []
          },
          "execution_count": 7
        }
      ]
    },
    {
      "cell_type": "code",
      "metadata": {
        "colab": {
          "base_uri": "https://localhost:8080/"
        },
        "id": "88494a3e",
        "outputId": "ca142384-531e-42b4-a7ed-5082d8265ee4"
      },
      "source": [
        "target_train.shape"
      ],
      "id": "88494a3e",
      "execution_count": null,
      "outputs": [
        {
          "output_type": "execute_result",
          "data": {
            "text/plain": [
              "(496,)"
            ]
          },
          "metadata": {
            "tags": []
          },
          "execution_count": 8
        }
      ]
    },
    {
      "cell_type": "code",
      "metadata": {
        "colab": {
          "base_uri": "https://localhost:8080/"
        },
        "id": "101ec433",
        "outputId": "74331d5e-2b82-48f8-9304-e071984453d3"
      },
      "source": [
        "features_train.ndim"
      ],
      "id": "101ec433",
      "execution_count": null,
      "outputs": [
        {
          "output_type": "execute_result",
          "data": {
            "text/plain": [
              "4"
            ]
          },
          "metadata": {
            "tags": []
          },
          "execution_count": 9
        }
      ]
    },
    {
      "cell_type": "code",
      "metadata": {
        "colab": {
          "base_uri": "https://localhost:8080/"
        },
        "id": "98def525",
        "outputId": "49c351fe-8a59-43b3-e969-20e2182f698e"
      },
      "source": [
        "target_train.ndim"
      ],
      "id": "98def525",
      "execution_count": null,
      "outputs": [
        {
          "output_type": "execute_result",
          "data": {
            "text/plain": [
              "1"
            ]
          },
          "metadata": {
            "tags": []
          },
          "execution_count": 10
        }
      ]
    },
    {
      "cell_type": "code",
      "metadata": {
        "id": "bd1c8993"
      },
      "source": [
        "def preprocessing(image):\n",
        "    image=cv2.cvtColor(image,cv2.COLOR_BGR2GRAY)\n",
        "    image=image/255\n",
        "    return image"
      ],
      "id": "bd1c8993",
      "execution_count": null,
      "outputs": []
    },
    {
      "cell_type": "code",
      "metadata": {
        "id": "5d570195"
      },
      "source": [
        "features_train=np.array(list(map(preprocessing,features_train)))"
      ],
      "id": "5d570195",
      "execution_count": null,
      "outputs": []
    },
    {
      "cell_type": "code",
      "metadata": {
        "colab": {
          "base_uri": "https://localhost:8080/"
        },
        "id": "b6f73295",
        "outputId": "a8147102-66ce-4590-b306-48617a161fab"
      },
      "source": [
        "features_train.shape"
      ],
      "id": "b6f73295",
      "execution_count": null,
      "outputs": [
        {
          "output_type": "execute_result",
          "data": {
            "text/plain": [
              "(496, 100, 100)"
            ]
          },
          "metadata": {
            "tags": []
          },
          "execution_count": 13
        }
      ]
    },
    {
      "cell_type": "code",
      "metadata": {
        "id": "c0d26edd"
      },
      "source": [
        "features_train=features_train.reshape(496, 100, 100,1)"
      ],
      "id": "c0d26edd",
      "execution_count": null,
      "outputs": []
    },
    {
      "cell_type": "code",
      "metadata": {
        "id": "5213ba70"
      },
      "source": [
        "from keras.preprocessing.image import ImageDataGenerator"
      ],
      "id": "5213ba70",
      "execution_count": null,
      "outputs": []
    },
    {
      "cell_type": "code",
      "metadata": {
        "id": "75c3b7af"
      },
      "source": [
        "dataGen=ImageDataGenerator(rotation_range=10,width_shift_range=0.1,height_shift_range=0.1,zoom_range=0.2,shear_range=0.1)"
      ],
      "id": "75c3b7af",
      "execution_count": null,
      "outputs": []
    },
    {
      "cell_type": "code",
      "metadata": {
        "id": "cc9ad29b"
      },
      "source": [
        "dataGen.fit(features_train)"
      ],
      "id": "cc9ad29b",
      "execution_count": null,
      "outputs": []
    },
    {
      "cell_type": "code",
      "metadata": {
        "id": "469998bf"
      },
      "source": [
        "batches=dataGen.flow(features_train,target_train,batch_size=5)"
      ],
      "id": "469998bf",
      "execution_count": null,
      "outputs": []
    },
    {
      "cell_type": "code",
      "metadata": {
        "colab": {
          "base_uri": "https://localhost:8080/"
        },
        "id": "874ffa06",
        "outputId": "45e8fa12-9b11-460f-9932-cd8a31b56f0d"
      },
      "source": [
        "len(batches)"
      ],
      "id": "874ffa06",
      "execution_count": null,
      "outputs": [
        {
          "output_type": "execute_result",
          "data": {
            "text/plain": [
              "100"
            ]
          },
          "metadata": {
            "tags": []
          },
          "execution_count": 19
        }
      ]
    },
    {
      "cell_type": "code",
      "metadata": {
        "id": "bfee46a5"
      },
      "source": [
        "images,labels=next(batches)"
      ],
      "id": "bfee46a5",
      "execution_count": null,
      "outputs": []
    },
    {
      "cell_type": "code",
      "metadata": {
        "colab": {
          "base_uri": "https://localhost:8080/"
        },
        "id": "90b0cb78",
        "outputId": "a670024e-f06e-4220-9f82-dc36f461e055"
      },
      "source": [
        "images.ndim"
      ],
      "id": "90b0cb78",
      "execution_count": null,
      "outputs": [
        {
          "output_type": "execute_result",
          "data": {
            "text/plain": [
              "4"
            ]
          },
          "metadata": {
            "tags": []
          },
          "execution_count": 21
        }
      ]
    },
    {
      "cell_type": "code",
      "metadata": {
        "colab": {
          "base_uri": "https://localhost:8080/"
        },
        "id": "52fc62bb",
        "outputId": "a6101ae2-6c2c-45d5-9489-17a031ec6861"
      },
      "source": [
        "labels.shape"
      ],
      "id": "52fc62bb",
      "execution_count": null,
      "outputs": [
        {
          "output_type": "execute_result",
          "data": {
            "text/plain": [
              "(5,)"
            ]
          },
          "metadata": {
            "tags": []
          },
          "execution_count": 22
        }
      ]
    },
    {
      "cell_type": "code",
      "metadata": {
        "colab": {
          "base_uri": "https://localhost:8080/"
        },
        "id": "573be270",
        "outputId": "50bb685e-6405-4f9e-a974-9d317fdf00af"
      },
      "source": [
        "images.shape"
      ],
      "id": "573be270",
      "execution_count": null,
      "outputs": [
        {
          "output_type": "execute_result",
          "data": {
            "text/plain": [
              "(5, 100, 100, 1)"
            ]
          },
          "metadata": {
            "tags": []
          },
          "execution_count": 23
        }
      ]
    },
    {
      "cell_type": "code",
      "metadata": {
        "id": "06ea4cec"
      },
      "source": [
        "import matplotlib.pyplot as plt"
      ],
      "id": "06ea4cec",
      "execution_count": null,
      "outputs": []
    },
    {
      "cell_type": "code",
      "metadata": {
        "colab": {
          "base_uri": "https://localhost:8080/",
          "height": 148
        },
        "id": "0c319ec8",
        "outputId": "7da8d00f-9861-444e-ae1d-647acf71e2b5"
      },
      "source": [
        "plt.figure(figsize=(10,10))\n",
        "for i in range(5):\n",
        "    plt.subplot(1,5,i+1)\n",
        "    plt.imshow(images[i].reshape(100,100))\n",
        "plt.show()"
      ],
      "id": "0c319ec8",
      "execution_count": null,
      "outputs": [
        {
          "output_type": "display_data",
          "data": {
            "image/png": "[encoded data removed]",
            "text/plain": [
              "<Figure size 720x720 with 5 Axes>"
            ]
          },
          "metadata": {
            "tags": [],
            "needs_background": "light"
          }
        }
      ]
    },
    {
      "cell_type": "code",
      "metadata": {
        "colab": {
          "base_uri": "https://localhost:8080/"
        },
        "id": "b8447615",
        "outputId": "46fed00d-a95f-4315-8927-273cf72be632"
      },
      "source": [
        "features_train.shape"
      ],
      "id": "b8447615",
      "execution_count": null,
      "outputs": [
        {
          "output_type": "execute_result",
          "data": {
            "text/plain": [
              "(496, 100, 100, 1)"
            ]
          },
          "metadata": {
            "tags": []
          },
          "execution_count": 26
        }
      ]
    },
    {
      "cell_type": "code",
      "metadata": {
        "colab": {
          "base_uri": "https://localhost:8080/"
        },
        "id": "416ecfcb",
        "outputId": "02f0551b-97f1-4d40-9e76-9fba39da565d"
      },
      "source": [
        "target_train.shape"
      ],
      "id": "416ecfcb",
      "execution_count": null,
      "outputs": [
        {
          "output_type": "execute_result",
          "data": {
            "text/plain": [
              "(496,)"
            ]
          },
          "metadata": {
            "tags": []
          },
          "execution_count": 27
        }
      ]
    },
    {
      "cell_type": "code",
      "metadata": {
        "id": "40aa32b5"
      },
      "source": [
        "from keras.utils.np_utils import to_categorical"
      ],
      "id": "40aa32b5",
      "execution_count": null,
      "outputs": []
    },
    {
      "cell_type": "code",
      "metadata": {
        "id": "c1003f69"
      },
      "source": [
        "target_train=to_categorical(target_train)"
      ],
      "id": "c1003f69",
      "execution_count": null,
      "outputs": []
    },
    {
      "cell_type": "code",
      "metadata": {
        "colab": {
          "base_uri": "https://localhost:8080/"
        },
        "id": "ddbe9f61",
        "outputId": "e546a540-40b5-4b1f-cadc-238375696619"
      },
      "source": [
        "target_train.shape"
      ],
      "id": "ddbe9f61",
      "execution_count": null,
      "outputs": [
        {
          "output_type": "execute_result",
          "data": {
            "text/plain": [
              "(496, 2)"
            ]
          },
          "metadata": {
            "tags": []
          },
          "execution_count": 30
        }
      ]
    },
    {
      "cell_type": "code",
      "metadata": {
        "id": "30386558"
      },
      "source": [
        "from keras.layers import Dense,Flatten,Conv2D,MaxPooling2D,Dropout\n",
        "from keras.models import Sequential"
      ],
      "id": "30386558",
      "execution_count": null,
      "outputs": []
    },
    {
      "cell_type": "code",
      "metadata": {
        "id": "21dfd90a"
      },
      "source": [
        "model=Sequential()\n",
        "model.add(Conv2D(100,(3,3),activation=\"relu\",input_shape=(100,100,1)))\n",
        "model.add(Conv2D(100,(3,3),activation=\"relu\"))\n",
        "model.add(MaxPooling2D(2,2))\n",
        "model.add(Conv2D(50,(3,3),activation=\"relu\"))\n",
        "model.add(Conv2D(50,(3,3),activation=\"relu\"))\n",
        "model.add(Conv2D(50,(3,3),activation=\"relu\"))\n",
        "model.add(MaxPooling2D(2,2))\n",
        "\n",
        "#model.add(Dropout(0.5)) # for overfitting model\n",
        "\n",
        "model.add(Flatten())\n",
        "model.add(Dense(500,activation=\"relu\"))\n",
        "model.add(Dense(2,activation=\"softmax\")) "
      ],
      "id": "21dfd90a",
      "execution_count": null,
      "outputs": []
    },
    {
      "cell_type": "code",
      "metadata": {
        "id": "aa955fa3"
      },
      "source": [
        "from keras.optimizers import Adam"
      ],
      "id": "aa955fa3",
      "execution_count": null,
      "outputs": []
    },
    {
      "cell_type": "code",
      "metadata": {
        "id": "938a739a"
      },
      "source": [
        "model.compile(Adam(learning_rate=0.0001),loss=\"categorical_crossentropy\",metrics=[\"accuracy\"])"
      ],
      "id": "938a739a",
      "execution_count": null,
      "outputs": []
    },
    {
      "cell_type": "code",
      "metadata": {
        "colab": {
          "base_uri": "https://localhost:8080/"
        },
        "id": "f4ff2bd3",
        "outputId": "ece51d6f-7e72-461c-d7e7-b4d3998d80f3"
      },
      "source": [
        "model.fit(dataGen.flow(features_train,target_train,batch_size=5),epochs=50)"
      ],
      "id": "f4ff2bd3",
      "execution_count": null,
      "outputs": [
        {
          "output_type": "stream",
          "text": [
            "Epoch 1/50\n",
            "100/100 [==============================] - 45s 19ms/step - loss: 0.6426 - accuracy: 0.6224\n",
            "Epoch 2/50\n",
            "100/100 [==============================] - 2s 16ms/step - loss: 0.4982 - accuracy: 0.7469\n",
            "Epoch 3/50\n",
            "100/100 [==============================] - 2s 16ms/step - loss: 0.3825 - accuracy: 0.8339\n",
            "Epoch 4/50\n",
            "100/100 [==============================] - 2s 16ms/step - loss: 0.4319 - accuracy: 0.7753\n",
            "Epoch 5/50\n",
            "100/100 [==============================] - 2s 16ms/step - loss: 0.4000 - accuracy: 0.8184\n",
            "Epoch 6/50\n",
            "100/100 [==============================] - 2s 16ms/step - loss: 0.3662 - accuracy: 0.8450\n",
            "Epoch 7/50\n",
            "100/100 [==============================] - 2s 16ms/step - loss: 0.3500 - accuracy: 0.8701\n",
            "Epoch 8/50\n",
            "100/100 [==============================] - 2s 16ms/step - loss: 0.2839 - accuracy: 0.8643\n",
            "Epoch 9/50\n",
            "100/100 [==============================] - 2s 16ms/step - loss: 0.2764 - accuracy: 0.8833\n",
            "Epoch 10/50\n",
            "100/100 [==============================] - 2s 16ms/step - loss: 0.2774 - accuracy: 0.8624\n",
            "Epoch 11/50\n",
            "100/100 [==============================] - 2s 16ms/step - loss: 0.2855 - accuracy: 0.8833\n",
            "Epoch 12/50\n",
            "100/100 [==============================] - 2s 16ms/step - loss: 0.2181 - accuracy: 0.9117\n",
            "Epoch 13/50\n",
            "100/100 [==============================] - 2s 16ms/step - loss: 0.2228 - accuracy: 0.8944\n",
            "Epoch 14/50\n",
            "100/100 [==============================] - 2s 16ms/step - loss: 0.2082 - accuracy: 0.9074\n",
            "Epoch 15/50\n",
            "100/100 [==============================] - 2s 16ms/step - loss: 0.2295 - accuracy: 0.8949\n",
            "Epoch 16/50\n",
            "100/100 [==============================] - 2s 16ms/step - loss: 0.2506 - accuracy: 0.9101\n",
            "Epoch 17/50\n",
            "100/100 [==============================] - 2s 16ms/step - loss: 0.1519 - accuracy: 0.9512\n",
            "Epoch 18/50\n",
            "100/100 [==============================] - 2s 16ms/step - loss: 0.1810 - accuracy: 0.9254\n",
            "Epoch 19/50\n",
            "100/100 [==============================] - 2s 16ms/step - loss: 0.2047 - accuracy: 0.9208\n",
            "Epoch 20/50\n",
            "100/100 [==============================] - 2s 16ms/step - loss: 0.1850 - accuracy: 0.9338\n",
            "Epoch 21/50\n",
            "100/100 [==============================] - 2s 16ms/step - loss: 0.2093 - accuracy: 0.9246\n",
            "Epoch 22/50\n",
            "100/100 [==============================] - 2s 16ms/step - loss: 0.1555 - accuracy: 0.9492\n",
            "Epoch 23/50\n",
            "100/100 [==============================] - 2s 16ms/step - loss: 0.1676 - accuracy: 0.9381\n",
            "Epoch 24/50\n",
            "100/100 [==============================] - 2s 16ms/step - loss: 0.1429 - accuracy: 0.9503\n",
            "Epoch 25/50\n",
            "100/100 [==============================] - 2s 16ms/step - loss: 0.1572 - accuracy: 0.9225\n",
            "Epoch 26/50\n",
            "100/100 [==============================] - 2s 16ms/step - loss: 0.1339 - accuracy: 0.9487\n",
            "Epoch 27/50\n",
            "100/100 [==============================] - 2s 16ms/step - loss: 0.1645 - accuracy: 0.9267\n",
            "Epoch 28/50\n",
            "100/100 [==============================] - 2s 16ms/step - loss: 0.1192 - accuracy: 0.9594\n",
            "Epoch 29/50\n",
            "100/100 [==============================] - 2s 16ms/step - loss: 0.1440 - accuracy: 0.9474\n",
            "Epoch 30/50\n",
            "100/100 [==============================] - 2s 16ms/step - loss: 0.1538 - accuracy: 0.9413\n",
            "Epoch 31/50\n",
            "100/100 [==============================] - 2s 16ms/step - loss: 0.1192 - accuracy: 0.9479\n",
            "Epoch 32/50\n",
            "100/100 [==============================] - 2s 16ms/step - loss: 0.1178 - accuracy: 0.9646\n",
            "Epoch 33/50\n",
            "100/100 [==============================] - 2s 16ms/step - loss: 0.1331 - accuracy: 0.9501\n",
            "Epoch 34/50\n",
            "100/100 [==============================] - 2s 16ms/step - loss: 0.1554 - accuracy: 0.9276\n",
            "Epoch 35/50\n",
            "100/100 [==============================] - 2s 16ms/step - loss: 0.1358 - accuracy: 0.9628\n",
            "Epoch 36/50\n",
            "100/100 [==============================] - 2s 16ms/step - loss: 0.0957 - accuracy: 0.9563\n",
            "Epoch 37/50\n",
            "100/100 [==============================] - 2s 16ms/step - loss: 0.1153 - accuracy: 0.9547\n",
            "Epoch 38/50\n",
            "100/100 [==============================] - 2s 16ms/step - loss: 0.1139 - accuracy: 0.9490\n",
            "Epoch 39/50\n",
            "100/100 [==============================] - 2s 16ms/step - loss: 0.0936 - accuracy: 0.9780\n",
            "Epoch 40/50\n",
            "100/100 [==============================] - 2s 16ms/step - loss: 0.0678 - accuracy: 0.9756\n",
            "Epoch 41/50\n",
            "100/100 [==============================] - 2s 16ms/step - loss: 0.1170 - accuracy: 0.9547\n",
            "Epoch 42/50\n",
            "100/100 [==============================] - 2s 16ms/step - loss: 0.0909 - accuracy: 0.9675\n",
            "Epoch 43/50\n",
            "100/100 [==============================] - 2s 16ms/step - loss: 0.1015 - accuracy: 0.9502\n",
            "Epoch 44/50\n",
            "100/100 [==============================] - 2s 16ms/step - loss: 0.0938 - accuracy: 0.9593\n",
            "Epoch 45/50\n",
            "100/100 [==============================] - 2s 17ms/step - loss: 0.0823 - accuracy: 0.9650\n",
            "Epoch 46/50\n",
            "100/100 [==============================] - 2s 17ms/step - loss: 0.0631 - accuracy: 0.9799\n",
            "Epoch 47/50\n",
            "100/100 [==============================] - 2s 16ms/step - loss: 0.0769 - accuracy: 0.9755\n",
            "Epoch 48/50\n",
            "100/100 [==============================] - 2s 16ms/step - loss: 0.0613 - accuracy: 0.9827\n",
            "Epoch 49/50\n",
            "100/100 [==============================] - 2s 16ms/step - loss: 0.1014 - accuracy: 0.9439\n",
            "Epoch 50/50\n",
            "100/100 [==============================] - 2s 16ms/step - loss: 0.0988 - accuracy: 0.9529\n"
          ],
          "name": "stdout"
        },
        {
          "output_type": "execute_result",
          "data": {
            "text/plain": [
              "<keras.callbacks.History at 0x7f2e40207390>"
            ]
          },
          "metadata": {
            "tags": []
          },
          "execution_count": 35
        }
      ]
    },
    {
      "cell_type": "code",
      "metadata": {
        "id": "dd7df47f",
        "colab": {
          "base_uri": "https://localhost:8080/"
        },
        "outputId": "696e1494-9cb5-4b4f-c43b-18579a9111ab"
      },
      "source": [
        "model_json=model.to_json() # converted to json file\n",
        "with open(\"Wrinkle.json\",\"w\") as abc:\n",
        "    abc.write(model_json)\n",
        "    abc.close()\n",
        "model.save_weights(\"WrinkleWeights.h5\") # saving weights as hdf 5 file\n",
        "print(\"Save the Model\")"
      ],
      "id": "dd7df47f",
      "execution_count": null,
      "outputs": [
        {
          "output_type": "stream",
          "text": [
            "Save the Model\n"
          ],
          "name": "stdout"
        }
      ]
    },
    {
      "cell_type": "code",
      "metadata": {
        "id": "a73bee46",
        "colab": {
          "base_uri": "https://localhost:8080/"
        },
        "outputId": "1cbd3e53-ceb4-44a4-ab10-fb064cec9eb5"
      },
      "source": [
        "from keras.models import model_from_json\n",
        "json_file=open(\"Wrinkle.json\",\"r\")\n",
        "loaded_model_json=json_file.read()\n",
        "json_file.close()\n",
        "loaded_model=model_from_json(loaded_model_json)\n",
        "loaded_model.load_weights(\"WrinkleWeights.h5\")\n",
        "print(\"Loaded model successfully\")"
      ],
      "id": "a73bee46",
      "execution_count": null,
      "outputs": [
        {
          "output_type": "stream",
          "text": [
            "Loaded model successfully\n"
          ],
          "name": "stdout"
        }
      ]
    },
    {
      "cell_type": "code",
      "metadata": {
        "id": "01a10fd6"
      },
      "source": [
        "def getClassName(classNo):\n",
        "    if classNo == 0: return \"No Wrinkles\"\n",
        "    elif classNo == 1: return \"Wrinkled\""
      ],
      "id": "01a10fd6",
      "execution_count": null,
      "outputs": []
    }
  ]
}